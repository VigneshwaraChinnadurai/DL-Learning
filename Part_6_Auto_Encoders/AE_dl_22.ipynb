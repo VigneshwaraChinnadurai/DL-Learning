{
  "nbformat": 4,
  "nbformat_minor": 0,
  "metadata": {
    "colab": {
      "name": "AE_dl_22.ipynb",
      "version": "0.3.2",
      "provenance": [],
      "collapsed_sections": [],
      "include_colab_link": true
    },
    "kernelspec": {
      "name": "python3",
      "display_name": "Python 3"
    }
  },
  "cells": [
    {
      "cell_type": "markdown",
      "metadata": {
        "id": "view-in-github",
        "colab_type": "text"
      },
      "source": [
        "<a href=\"https://colab.research.google.com/github/VigneshwaraChinnadurai/DL-Learning/blob/master/Part_6_Auto_Encoders/AE_dl_22.ipynb\" target=\"_parent\"><img src=\"https://colab.research.google.com/assets/colab-badge.svg\" alt=\"Open In Colab\"/></a>"
      ]
    },
    {
      "cell_type": "code",
      "metadata": {
        "id": "AMnSm1l9cikv",
        "colab_type": "code",
        "colab": {}
      },
      "source": [
        "# AutoEncoders\n",
        "\n",
        "# AE cannot have same or more no of hidden layers than input or visible layers as they wont function properly.\n",
        "# It just copies the node information to another node by dedicating the nodes to input ie 1st hidden node to 1st visible node.\n",
        "\n",
        "# Types of AE: Sparse, Denoising, Contractive, Stacked, Deep.\n",
        "\n",
        "# In sparse encoder, a regularisation technique, sparcity, which is applied to use only selected no of hidden layers for a case,\n",
        "# at a given time, which is less than the no of input layers wich makes the model robust and efficient working.\n",
        "\n",
        "# In  Denoising encoder, it replaces the input by modified input in which some of th inputs are made as zeros\n",
        "# which is according to our wish and it can be changed by our coding. And at last the output is compared with \n",
        "# original input and not modified input values.\n",
        "\n",
        "# Contractive AE is very complex. So refer additional resources\n",
        "\n",
        "# Stacked AE is adding another hidden layer to the network.\n",
        "\n",
        "# Stacked AE <> Deep AE. Deep AE is a RBM (restricted boltsman machine) stacked to normal auto encoder,\n",
        "# but looks similar to stacked AE\n",
        "\n",
        "# In this problem we're going to model based upon the users rating to movies which they've watched and\n",
        "# predicting the movies's ratings they probabily give to the movies they have'nt watched.\n"
      ],
      "execution_count": 0,
      "outputs": []
    },
    {
      "cell_type": "code",
      "metadata": {
        "id": "yDevLgRKcrZN",
        "colab_type": "code",
        "colab": {}
      },
      "source": [
        "# Importing the libraries\n",
        "import numpy as np\n",
        "import pandas as pd\n",
        "import torch\n",
        "import torch.nn as nn\n",
        "import torch.nn.parallel\n",
        "import torch.optim as optim\n",
        "import torch.utils.data\n",
        "from torch.autograd import Variable\n",
        "\n",
        "# Importing the dataset\n",
        "movies = pd.read_csv('ml-1m/movies.dat', sep = '::', header = None, engine = 'python', encoding = 'latin-1')\n",
        "users = pd.read_csv('ml-1m/users.dat', sep = '::', header = None, engine = 'python', encoding = 'latin-1')\n",
        "ratings = pd.read_csv('ml-1m/ratings.dat', sep = '::', header = None, engine = 'python', encoding = 'latin-1')\n",
        "\n",
        "# Preparing the training set and the test set\n",
        "training_set = pd.read_csv('ml-100k/u1.base', delimiter = '\\t')\n",
        "training_set = np.array(training_set, dtype = 'int')\n",
        "test_set = pd.read_csv('ml-100k/u1.test', delimiter = '\\t')\n",
        "test_set = np.array(test_set, dtype = 'int')\n",
        "\n",
        "# Getting the number of users and movies\n",
        "nb_users = int(max(max(training_set[:,0]), max(test_set[:,0])))\n",
        "nb_movies = int(max(max(training_set[:,1]), max(test_set[:,1])))\n",
        "\n",
        "# Converting the data into an array with users in lines and movies in columns\n",
        "def convert(data):\n",
        "    new_data = []\n",
        "    for id_users in range(1, nb_users + 1):\n",
        "        id_movies = data[:,1][data[:,0] == id_users]\n",
        "        id_ratings = data[:,2][data[:,0] == id_users]\n",
        "        ratings = np.zeros(nb_movies)\n",
        "        ratings[id_movies - 1] = id_ratings\n",
        "        new_data.append(list(ratings))\n",
        "    return new_data\n",
        "training_set = convert(training_set)\n",
        "test_set = convert(test_set)\n"
      ],
      "execution_count": 0,
      "outputs": []
    },
    {
      "cell_type": "code",
      "metadata": {
        "id": "MMOKZUoIcvxs",
        "colab_type": "code",
        "colab": {}
      },
      "source": [
        "# Converting the data into Torch tensors\n",
        "training_set = torch.FloatTensor(training_set)\n",
        "test_set = torch.FloatTensor(test_set)\n"
      ],
      "execution_count": 0,
      "outputs": []
    },
    {
      "cell_type": "code",
      "metadata": {
        "id": "-54QA8cxcxx0",
        "colab_type": "code",
        "colab": {}
      },
      "source": [
        "# Creating the architecture of the Neural Network\n",
        "class SAE(nn.Module):\n",
        "    # Here we're defining that we're inheriting the features of parent class (nn.Module from pyTorch)\n",
        "    def __init__(self, ):\n",
        "        super(SAE, self).__init__()\n",
        "        # This is to inherit the features from parent class.\n",
        "        # This architecture is similar to the Deep Auto Encoders.\n",
        "        self.fc1 = nn.Linear(nb_movies, 20)\n",
        "        # Here te input is nb_movies and the output is 20 nodes.\n",
        "        # Try different values in the place of 20 to get a better result.(Practical experienc)\n",
        "        self.fc2 = nn.Linear(20, 10)\n",
        "        # This is first hidden layer\n",
        "        # 20 is the input to this layer, 10 is the output from this layer.\n",
        "        self.fc3 = nn.Linear(10, 20)\n",
        "        self.fc4 = nn.Linear(20, nb_movies)\n",
        "        self.activation = nn.Sigmoid()\n",
        "        # Declaring the activation function(rectifier activation function can also be given)\n",
        "        # Upon testing, Sigmoid gave more accuracy.\n",
        "    def forward(self, x):\n",
        "        x = self.activation(self.fc1(x))\n",
        "        # The above step returns first encoded vector\n",
        "        # Where x is the first input vector of features (nb_movies).\n",
        "        x = self.activation(self.fc2(x))\n",
        "        # The above step returns second encoded vector\n",
        "        x = self.activation(self.fc3(x))\n",
        "        x = self.fc4(x)\n",
        "        # The above step returns decoded vector\n",
        "        return x\n",
        "sae = SAE()\n",
        "# For objects, try using non capital letters.\n",
        "criterion = nn.MSELoss()\n",
        "optimizer = optim.RMSprop(sae.parameters(), lr = 0.01, weight_decay = 0.5)\n",
        "# lr is Learning Rate which is arbitary, try giving different values according to business problems.\n",
        "# Found best lr as 0.01\n"
      ],
      "execution_count": 0,
      "outputs": []
    },
    {
      "cell_type": "code",
      "metadata": {
        "id": "YnO7Bot2c1OU",
        "colab_type": "code",
        "colab": {}
      },
      "source": [
        "# Training the SAE\n",
        "nb_epoch = 200\n",
        "for epoch in range(1, nb_epoch + 1):\n",
        "    train_loss = 0\n",
        "    s = 0.\n",
        "    # S is the no of person who atleast gave rating for 1 movie and initializing it to be zero.\n",
        "    for id_user in range(nb_users):\n",
        "        input = Variable(training_set[id_user]).unsqueeze(0)\n",
        "        # In the above step, we're creating the batch of single input vector (which is expected by pyTorch).\n",
        "        # Batch creation is essential, else it wont work.\n",
        "        target = input.clone()\n",
        "        # Cloning the input as target.\n",
        "        if torch.sum(target.data > 0) > 0:\n",
        "            # This If condition is to remove users who didn't vote even a single movie as they are of no use.\n",
        "            output = sae(input)\n",
        "            target.require_grad = False\n",
        "            output[target == 0] = 0\n",
        "            loss = criterion(output, target)\n",
        "            mean_corrector = nb_movies/float(torch.sum(target.data > 0) + 1e-10)\n",
        "            # As the torch.sum(target.data) is denominator, we should not make it as zero at any condition.\n",
        "            # Hence adding 1e-10 a number nearly equal to zero but not absolute zero to it.\n",
        "            # Hence by this we're avoiding the infinite computation error.\n",
        "            loss.backward()\n",
        "            train_loss += np.sqrt(loss.data*mean_corrector)\n",
        "            # That's because in PyTorch>=0.5, the index of 0-dim tensor is invalid. \n",
        "            # The master branch is designed for PyTorch 0.4.1, loss_val.data[0] works well.\n",
        "            s += 1.\n",
        "            optimizer.step()\n",
        "    print('epoch: '+str(epoch)+' loss: '+str(train_loss/s))"
      ],
      "execution_count": 0,
      "outputs": []
    },
    {
      "cell_type": "code",
      "metadata": {
        "id": "AMQjFLFsc6HE",
        "colab_type": "code",
        "colab": {}
      },
      "source": [
        "# Testing the SAE\n",
        "test_loss = 0\n",
        "s = 0.\n",
        "for id_user in range(nb_users):\n",
        "    input = Variable(training_set[id_user]).unsqueeze(0)\n",
        "    target = Variable(test_set[id_user])\n",
        "    if torch.sum(target.data > 0) > 0:\n",
        "        output = sae(input)\n",
        "        target.require_grad = False\n",
        "        output[target == 0] = 0\n",
        "        loss = criterion(output, target)\n",
        "        mean_corrector = nb_movies/float(torch.sum(target.data > 0) + 1e-10)\n",
        "        test_loss += np.sqrt(loss.data[0]*mean_corrector)\n",
        "        s += 1.\n",
        "print('test loss: '+str(test_loss/s))"
      ],
      "execution_count": 0,
      "outputs": []
    }
  ]
}