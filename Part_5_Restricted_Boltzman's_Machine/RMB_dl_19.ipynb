{
  "nbformat": 4,
  "nbformat_minor": 0,
  "metadata": {
    "colab": {
      "name": "RMB_dl_19.ipynb",
      "version": "0.3.2",
      "provenance": [],
      "collapsed_sections": [],
      "include_colab_link": true
    },
    "kernelspec": {
      "name": "python3",
      "display_name": "Python 3"
    }
  },
  "cells": [
    {
      "cell_type": "markdown",
      "metadata": {
        "id": "view-in-github",
        "colab_type": "text"
      },
      "source": [
        "<a href=\"https://colab.research.google.com/github/VigneshwaraChinnadurai/DL-Learning/blob/master/Part_5_Restricted_Boltzman's_Machine/RMB_dl_19.ipynb\" target=\"_parent\"><img src=\"https://colab.research.google.com/assets/colab-badge.svg\" alt=\"Open In Colab\"/></a>"
      ]
    },
    {
      "cell_type": "code",
      "metadata": {
        "id": "40LGzB_TbqpJ",
        "colab_type": "code",
        "colab": {}
      },
      "source": [
        "# Boltzmann Machines\n",
        "\n",
        "# Restricted Boltzmann machines have received a lot of attention recently after being proposed as \n",
        "# building blocks of multi-layer learning architectures called deep belief networks.\n",
        "# These features can serve as input to another RBM. \n",
        "# By stacking RBMs in this way, one can learn features from features in the hope of arriving at a high level representation. \n",
        "\n",
        "# In this problem we're going to model based upon the users rating to movies which they've watched and\n",
        "# predicting the movies's ratings they probabily give to the movies they have'nt watched.\n"
      ],
      "execution_count": 0,
      "outputs": []
    },
    {
      "cell_type": "code",
      "metadata": {
        "id": "UPgKL-2UbroV",
        "colab_type": "code",
        "colab": {}
      },
      "source": [
        "# Importing the libraries\n",
        "import numpy as np\n",
        "import pandas as pd\n",
        "import torch\n",
        "import torch.nn as nn\n",
        "import torch.nn.parallel\n",
        "import torch.optim as optim\n",
        "import torch.utils.data\n",
        "from torch.autograd import Variable\n",
        "\n",
        "# Importing the dataset\n",
        "movies = pd.read_csv('ml-1m/movies.dat', sep = '::', header = None, engine = 'python', encoding = 'latin-1')\n",
        "# ml-1m/movies.dat is the key to get into that sub directory and fetch the dataset.\n",
        "# And seperator in this .data file is ::\n",
        "# We speccify engine to get the import correctly.\n",
        "# Encoding is used as some of the movie title have some special character.\n",
        "users = pd.read_csv('ml-1m/users.dat', sep = '::', header = None, engine = 'python', encoding = 'latin-1')\n",
        "ratings = pd.read_csv('ml-1m/ratings.dat', sep = '::', header = None, engine = 'python', encoding = 'latin-1')\n",
        "# In this rating.dat, 1st column corresponds to users, 2nd to movies, 3rd to ratings and 4th is timestamp (not used.)\n",
        "\n",
        "# Preparing the training set and the test set\n",
        "training_set = pd.read_csv('ml-100k/u1.base', delimiter = '\\t')\n",
        "training_set = np.array(training_set, dtype = 'int')\n",
        "test_set = pd.read_csv('ml-100k/u1.test', delimiter = '\\t')\n",
        "test_set = np.array(test_set, dtype = 'int')\n",
        "\n",
        "# Getting the number of users and movies\n",
        "nb_users = int(max(max(training_set[:,0]), max(test_set[:,0])))\n",
        "nb_movies = int(max(max(training_set[:,1]), max(test_set[:,1])))"
      ],
      "execution_count": 0,
      "outputs": []
    },
    {
      "cell_type": "code",
      "metadata": {
        "id": "4rWmZWHIb0Wk",
        "colab_type": "code",
        "colab": {}
      },
      "source": [
        "# Converting the data into an array with users in lines and movies in columns\n",
        "def convert(data):\n",
        "    new_data = []\n",
        "    for id_users in range(1, nb_users + 1):\n",
        "        id_movies = data[:,1][data[:,0] == id_users]\n",
        "        # After data[:,1], this is given as condition\n",
        "        id_ratings = data[:,2][data[:,0] == id_users]\n",
        "        ratings = np.zeros(nb_movies)\n",
        "        ratings[id_movies - 1] = id_ratings\n",
        "        # As the id_movies starts from 1 and program starts index from zero, to avoid mismatching, giving -1\n",
        "        new_data.append(list(ratings))\n",
        "        # As torch expeccts list of lists, confirming that itis a list.\n",
        "    return new_data\n",
        "training_set = convert(training_set)\n",
        "test_set = convert(test_set)\n",
        "# By the above procedure,we're converting the data in teh dataframe to list\n"
      ],
      "execution_count": 0,
      "outputs": []
    },
    {
      "cell_type": "code",
      "metadata": {
        "id": "sLDq7-Gab3d8",
        "colab_type": "code",
        "colab": {}
      },
      "source": [
        "# Converting the data into Torch tensors\n",
        "training_set = torch.FloatTensor(training_set)\n",
        "test_set = torch.FloatTensor(test_set)\n",
        "# Here we're converting the data in list to torch tensors.\n",
        "# After converting the datas to tensors, it may disappear in variable explorer as it is much advanced.\n",
        "\n",
        "# Converting the ratings into binary ratings 1 (Liked) or 0 (Not Liked)\n",
        "# As we are giving the ratings in zeros and ones, the present zeros which represents the ratings which is not given by the user\n",
        "# must be changed to another value, hence changing it to -1\n",
        "training_set[training_set == 0] = -1\n",
        "training_set[training_set == 1] = 0\n",
        "training_set[training_set == 2] = 0\n",
        "training_set[training_set >= 3] = 1\n",
        "test_set[test_set == 0] = -1\n",
        "test_set[test_set == 1] = 0\n",
        "test_set[test_set == 2] = 0\n",
        "test_set[test_set >= 3] = 1"
      ],
      "execution_count": 0,
      "outputs": []
    },
    {
      "cell_type": "code",
      "metadata": {
        "id": "JOCijj3QcBYd",
        "colab_type": "code",
        "colab": {}
      },
      "source": [
        "# Creating the architecture of the Neural Network\n",
        "# Creating a class should always start with capital letter.\n",
        "class RBM():\n",
        "    #Should always start with init function as it says the objects once the class is made\n",
        "    # Default and compulsory\n",
        "    def __init__(self, nv, nh):\n",
        "        # Self is default which corresponds to the objects which will be created afterwards.\n",
        "        # where nh is no of hidden nodes and nv is no of visible nodes\n",
        "        # Then initialize the parameters of our future objects.(Initialize the objects of the class)\n",
        "        self.W = torch.randn(nh, nv)\n",
        "        # Here the weights(W) are initialized by the torch tensors.\n",
        "        self.a = torch.randn(1, nh)\n",
        "        # Here the bias is initialized for hidden nodes and we'll do same for visible nodes.\n",
        "        self.b = torch.randn(1, nv)\n",
        "    def sample_h(self, x):\n",
        "        # Taking the samples of neurons of hidden nodes\n",
        "        wx = torch.mm(x, self.W.t())\n",
        "        # This is to calculate weight (w) of given neurons (x) plus the bias (a)\n",
        "        # torch.mm is to multiply the tensors and t is to take transpose.\n",
        "        activation = wx + self.a.expand_as(wx)\n",
        "        # Explaining the activation function.\n",
        "        p_h_given_v = torch.sigmoid(activation)\n",
        "        return p_h_given_v, torch.bernoulli(p_h_given_v)\n",
        "    def sample_v(self, y):\n",
        "        # Taking the samples of neurons of visible nodes\n",
        "        wy = torch.mm(y, self.W)\n",
        "        activation = wy + self.b.expand_as(wy)\n",
        "        p_v_given_h = torch.sigmoid(activation)\n",
        "        return p_v_given_h, torch.bernoulli(p_v_given_h)\n",
        "    def train(self, v0, vk, ph0, phk):\n",
        "        # v0 is input vector, vk is visible node obtained after k samplings, ph0 is probability of hidden node\n",
        "        # and phk is probability of hidden node after k samplings.\n",
        "        self.W += (torch.mm(v0.t(),ph0) - torch.mm(vk.t(),phk)).t()\n",
        "        self.b += torch.sum((v0 - vk), 0)\n",
        "        self.a += torch.sum((ph0 - phk), 0)\n",
        "nv = len(training_set[0])\n",
        "nh = 100 \n",
        "# giving 100 for the no of features to predict\n",
        "batch_size = 100\n",
        "# Batch size is the interval at which the weights to be updated.\n",
        "# To get a fasyer prediction, giving batch size as 100.\n",
        "rbm = RBM(nv, nh)\n",
        "# It creates the nb_movies which is the movies which is not actually rated.\n"
      ],
      "execution_count": 0,
      "outputs": []
    },
    {
      "cell_type": "code",
      "metadata": {
        "id": "KEg8YFNEcFdm",
        "colab_type": "code",
        "colab": {}
      },
      "source": [
        "# Training the RBM\n",
        "nb_epoch = 10\n",
        "for epoch in range(1, nb_epoch + 1):\n",
        "    train_loss = 0\n",
        "    s = 0.\n",
        "    # S is the no of person who atleast gave rating for 1 movie and initializing it to be zero.\n",
        "    for id_user in range(0, nb_users - batch_size, batch_size):\n",
        "        # range: stop at 843(nb_users - batch_size) as we are stpping every 100, ie 1 to 100 then 100 to 200.\n",
        "        # So by this steping, we can update the weights after 100 inputs.\n",
        "        vk = training_set[id_user:id_user+batch_size]\n",
        "        v0 = training_set[id_user:id_user+batch_size]\n",
        "        ph0,_ = rbm.sample_h(v0)\n",
        "        # ph0,_ is the trick to get the first element of the function return.\n",
        "        for k in range(10):\n",
        "            _,hk = rbm.sample_h(vk)\n",
        "            # _,hk is the trick to get the second element of the function return.\n",
        "            _,vk = rbm.sample_v(hk)\n",
        "            vk[v0<0] = v0[v0<0]\n",
        "        phk,_ = rbm.sample_h(vk)\n",
        "        rbm.train(v0, vk, ph0, phk)\n",
        "        train_loss += torch.mean(torch.abs(v0[v0>=0] - vk[v0>=0]))\n",
        "        s += 1.\n",
        "    print('epoch: '+str(epoch)+' loss: '+str(train_loss/s))\n",
        "    # Str is to convert the epoc value to number.\n"
      ],
      "execution_count": 0,
      "outputs": []
    },
    {
      "cell_type": "code",
      "metadata": {
        "id": "3qowSgnLcHsl",
        "colab_type": "code",
        "colab": {}
      },
      "source": [
        "# Testing the RBM\n",
        "test_loss = 0\n",
        "s = 0.\n",
        "for id_user in range(nb_users):\n",
        "    v = training_set[id_user:id_user+1]\n",
        "    vt = test_set[id_user:id_user+1]\n",
        "    if len(vt[vt>=0]) > 0:\n",
        "        _,h = rbm.sample_h(v)\n",
        "        _,v = rbm.sample_v(h)\n",
        "        test_loss += torch.mean(torch.abs(vt[vt>=0] - v[vt>=0]))\n",
        "        s += 1.\n",
        "print('test loss: '+str(test_loss/s))"
      ],
      "execution_count": 0,
      "outputs": []
    }
  ]
}