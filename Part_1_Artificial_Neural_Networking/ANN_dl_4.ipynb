{
  "nbformat": 4,
  "nbformat_minor": 0,
  "metadata": {
    "colab": {
      "name": "ANN_dl_4.ipynb",
      "version": "0.3.2",
      "provenance": [],
      "collapsed_sections": [],
      "include_colab_link": true
    },
    "kernelspec": {
      "name": "python3",
      "display_name": "Python 3"
    }
  },
  "cells": [
    {
      "cell_type": "markdown",
      "metadata": {
        "id": "view-in-github",
        "colab_type": "text"
      },
      "source": [
        "<a href=\"https://colab.research.google.com/github/VigneshwaraChinnadurai/DL-Learning/blob/master/Part_1_Artificial_Neural_Networking/ANN_dl_4.ipynb\" target=\"_parent\"><img src=\"https://colab.research.google.com/assets/colab-badge.svg\" alt=\"Open In Colab\"/></a>"
      ]
    },
    {
      "cell_type": "code",
      "metadata": {
        "id": "SpNye3icr4F7",
        "colab_type": "code",
        "colab": {
          "base_uri": "https://localhost:8080/",
          "height": 151
        },
        "outputId": "d34712a7-f47d-4cb5-f420-622f09195c94"
      },
      "source": [
        "#STEP-1: Install Import Libraries\n",
        "!pip install -U -q PyDrive\n",
        "from pydrive.auth import GoogleAuth\n",
        "from pydrive.drive import GoogleDrive\n",
        "from google.colab import auth\n",
        "from oauth2client.client import GoogleCredentials\n",
        "\n",
        "#STEP-2: Autheticate E-Mail ID\n",
        "\n",
        "auth.authenticate_user()\n",
        "gauth = GoogleAuth()\n",
        "gauth.credentials = GoogleCredentials.get_application_default()\n",
        "drive = GoogleDrive(gauth)\n",
        "#STEP-3: Get File from Drive using file-ID\n",
        "\n",
        "#2.1 Get the file\n",
        "downloaded = drive.CreateFile({'id':'1eY1vZDPP1kvnWS9DUzRKey_DQD_yoqS-'})\n",
        "# replace the id with id of file you want to access\n",
        "downloaded.GetContentFile('Churn_Modelling.csv') \n",
        "\n",
        "#STEP-4: Read File\n",
        "\n",
        "#3.1 Read file as panda dataframe\n",
        "import pandas as pd\n",
        "data = pd.read_csv('Churn_Modelling.csv') \n",
        "print(data.head())"
      ],
      "execution_count": 1,
      "outputs": [
        {
          "output_type": "stream",
          "text": [
            "   RowNumber  CustomerId   Surname  ...  IsActiveMember EstimatedSalary Exited\n",
            "0          1    15634602  Hargrave  ...               1       101348.88      1\n",
            "1          2    15647311      Hill  ...               1       112542.58      0\n",
            "2          3    15619304      Onio  ...               0       113931.57      1\n",
            "3          4    15701354      Boni  ...               0        93826.63      0\n",
            "4          5    15737888  Mitchell  ...               1        79084.10      0\n",
            "\n",
            "[5 rows x 14 columns]\n"
          ],
          "name": "stdout"
        }
      ]
    },
    {
      "cell_type": "code",
      "metadata": {
        "id": "5pFq6FRXsR2M",
        "colab_type": "code",
        "colab": {}
      },
      "source": [
        "# Artificial Neural Network\n",
        "\n",
        "# Installing Theano\n",
        "# pip install --upgrade --no-deps git+git://github.com/Theano/Theano.git\n",
        "\n",
        "# Installing Tensorflow\n",
        "# pip install tensorflow\n",
        "\n",
        "# Installing Keras\n",
        "# pip install --upgrade keras"
      ],
      "execution_count": 0,
      "outputs": []
    },
    {
      "cell_type": "code",
      "metadata": {
        "id": "AH3wGc7Zsi9N",
        "colab_type": "code",
        "colab": {
          "base_uri": "https://localhost:8080/",
          "height": 138
        },
        "outputId": "d4b6cef2-9207-4958-84d1-195ba225f93c"
      },
      "source": [
        "# Part 1 - Data Preprocessing\n",
        "\n",
        "# Importing the libraries\n",
        "import numpy as np\n",
        "import matplotlib.pyplot as plt\n",
        "import pandas as pd\n",
        "\n",
        "# Importing the dataset\n",
        "dataset = pd.read_csv('Churn_Modelling.csv')\n",
        "X = dataset.iloc[:, 3:13].values\n",
        "y = dataset.iloc[:, 13].values\n",
        "\n",
        "# Encoding categorical data\n",
        "from sklearn.preprocessing import LabelEncoder, OneHotEncoder\n",
        "labelencoder_X_1 = LabelEncoder()\n",
        "X[:, 1] = labelencoder_X_1.fit_transform(X[:, 1])\n",
        "labelencoder_X_2 = LabelEncoder()\n",
        "X[:, 2] = labelencoder_X_2.fit_transform(X[:, 2])\n",
        "onehotencoder = OneHotEncoder(categorical_features = [1])\n",
        "X = onehotencoder.fit_transform(X).toarray()\n",
        "X = X[:, 1:]\n",
        "\n",
        "# Splitting the dataset into the Training set and Test set\n",
        "from sklearn.model_selection import train_test_split\n",
        "X_train, X_test, y_train, y_test = train_test_split(X, y, test_size = 0.2, random_state = 0)\n",
        "\n",
        "# Feature Scaling\n",
        "from sklearn.preprocessing import StandardScaler\n",
        "sc = StandardScaler()\n",
        "X_train = sc.fit_transform(X_train)\n",
        "X_test = sc.transform(X_test)"
      ],
      "execution_count": 2,
      "outputs": [
        {
          "output_type": "stream",
          "text": [
            "/usr/local/lib/python3.6/dist-packages/sklearn/preprocessing/_encoders.py:415: FutureWarning: The handling of integer data will change in version 0.22. Currently, the categories are determined based on the range [0, max(values)], while in the future they will be determined based on the unique values.\n",
            "If you want the future behaviour and silence this warning, you can specify \"categories='auto'\".\n",
            "In case you used a LabelEncoder before this OneHotEncoder to convert the categories to integers, then you can now use the OneHotEncoder directly.\n",
            "  warnings.warn(msg, FutureWarning)\n",
            "/usr/local/lib/python3.6/dist-packages/sklearn/preprocessing/_encoders.py:451: DeprecationWarning: The 'categorical_features' keyword is deprecated in version 0.20 and will be removed in 0.22. You can use the ColumnTransformer instead.\n",
            "  \"use the ColumnTransformer instead.\", DeprecationWarning)\n"
          ],
          "name": "stderr"
        }
      ]
    },
    {
      "cell_type": "code",
      "metadata": {
        "id": "C6xV6sPuslmL",
        "colab_type": "code",
        "colab": {
          "base_uri": "https://localhost:8080/",
          "height": 1000
        },
        "outputId": "e54af059-b333-4afb-ca88-bfb78bc9bece"
      },
      "source": [
        "# Part 2 - Now let's make the ANN!\n",
        "\n",
        "# Importing the Keras libraries and packages\n",
        "import keras\n",
        "from keras.models import Sequential\n",
        "from keras.layers import Dense\n",
        "from keras.layers import Dropout\n",
        "\n",
        "# Initialising the ANN\n",
        "classifier = Sequential()\n",
        "\n",
        "# Adding the input layer and the first hidden layer\n",
        "classifier.add(Dense(units = 6, kernel_initializer = 'uniform', activation = 'relu', input_dim = 11))\n",
        "# classifier.add(Dropout(p = 0.1))\n",
        "\n",
        "# Adding the second hidden layer\n",
        "classifier.add(Dense(units = 6, kernel_initializer = 'uniform', activation = 'relu'))\n",
        "# classifier.add(Dropout(p = 0.1))\n",
        "\n",
        "# Adding the output layer\n",
        "classifier.add(Dense(units = 1, kernel_initializer = 'uniform', activation = 'sigmoid'))\n",
        "\n",
        "# Compiling the ANN\n",
        "classifier.compile(optimizer = 'adam', loss = 'binary_crossentropy', metrics = ['accuracy'])\n",
        "\n",
        "# Fitting the ANN to the Training set\n",
        "classifier.fit(X_train, y_train, batch_size = 10, epochs = 100)"
      ],
      "execution_count": 4,
      "outputs": [
        {
          "output_type": "stream",
          "text": [
            "Using TensorFlow backend.\n",
            "WARNING: Logging before flag parsing goes to stderr.\n",
            "W0814 10:35:47.560287 139890970630016 deprecation_wrapper.py:119] From /usr/local/lib/python3.6/dist-packages/keras/backend/tensorflow_backend.py:74: The name tf.get_default_graph is deprecated. Please use tf.compat.v1.get_default_graph instead.\n",
            "\n",
            "W0814 10:35:47.604427 139890970630016 deprecation_wrapper.py:119] From /usr/local/lib/python3.6/dist-packages/keras/backend/tensorflow_backend.py:517: The name tf.placeholder is deprecated. Please use tf.compat.v1.placeholder instead.\n",
            "\n",
            "W0814 10:35:47.612734 139890970630016 deprecation_wrapper.py:119] From /usr/local/lib/python3.6/dist-packages/keras/backend/tensorflow_backend.py:4138: The name tf.random_uniform is deprecated. Please use tf.random.uniform instead.\n",
            "\n",
            "W0814 10:35:47.670788 139890970630016 deprecation_wrapper.py:119] From /usr/local/lib/python3.6/dist-packages/keras/optimizers.py:790: The name tf.train.Optimizer is deprecated. Please use tf.compat.v1.train.Optimizer instead.\n",
            "\n",
            "W0814 10:35:47.700244 139890970630016 deprecation_wrapper.py:119] From /usr/local/lib/python3.6/dist-packages/keras/backend/tensorflow_backend.py:3376: The name tf.log is deprecated. Please use tf.math.log instead.\n",
            "\n",
            "W0814 10:35:47.710445 139890970630016 deprecation.py:323] From /usr/local/lib/python3.6/dist-packages/tensorflow/python/ops/nn_impl.py:180: add_dispatch_support.<locals>.wrapper (from tensorflow.python.ops.array_ops) is deprecated and will be removed in a future version.\n",
            "Instructions for updating:\n",
            "Use tf.where in 2.0, which has the same broadcast rule as np.where\n",
            "W0814 10:35:47.962300 139890970630016 deprecation_wrapper.py:119] From /usr/local/lib/python3.6/dist-packages/keras/backend/tensorflow_backend.py:986: The name tf.assign_add is deprecated. Please use tf.compat.v1.assign_add instead.\n",
            "\n"
          ],
          "name": "stderr"
        },
        {
          "output_type": "stream",
          "text": [
            "Epoch 1/100\n",
            "8000/8000 [==============================] - 2s 233us/step - loss: 0.4925 - acc: 0.7952\n",
            "Epoch 2/100\n",
            "8000/8000 [==============================] - 1s 142us/step - loss: 0.4275 - acc: 0.7960\n",
            "Epoch 3/100\n",
            "8000/8000 [==============================] - 1s 137us/step - loss: 0.4224 - acc: 0.7960\n",
            "Epoch 4/100\n",
            "8000/8000 [==============================] - 1s 136us/step - loss: 0.4182 - acc: 0.8200\n",
            "Epoch 5/100\n",
            "8000/8000 [==============================] - 1s 133us/step - loss: 0.4161 - acc: 0.8272\n",
            "Epoch 6/100\n",
            "8000/8000 [==============================] - 1s 127us/step - loss: 0.4140 - acc: 0.8299\n",
            "Epoch 7/100\n",
            "8000/8000 [==============================] - 1s 129us/step - loss: 0.4121 - acc: 0.8304\n",
            "Epoch 8/100\n",
            "8000/8000 [==============================] - 1s 127us/step - loss: 0.4109 - acc: 0.8324\n",
            "Epoch 9/100\n",
            "8000/8000 [==============================] - 1s 121us/step - loss: 0.4095 - acc: 0.8334\n",
            "Epoch 10/100\n",
            "8000/8000 [==============================] - 1s 128us/step - loss: 0.4087 - acc: 0.8350\n",
            "Epoch 11/100\n",
            "8000/8000 [==============================] - 1s 125us/step - loss: 0.4079 - acc: 0.8330\n",
            "Epoch 12/100\n",
            "8000/8000 [==============================] - 1s 124us/step - loss: 0.4072 - acc: 0.8344\n",
            "Epoch 13/100\n",
            "8000/8000 [==============================] - 1s 122us/step - loss: 0.4063 - acc: 0.8341\n",
            "Epoch 14/100\n",
            "8000/8000 [==============================] - 1s 126us/step - loss: 0.4055 - acc: 0.8349\n",
            "Epoch 15/100\n",
            "8000/8000 [==============================] - 1s 125us/step - loss: 0.4053 - acc: 0.8346\n",
            "Epoch 16/100\n",
            "8000/8000 [==============================] - 1s 123us/step - loss: 0.4047 - acc: 0.8346\n",
            "Epoch 17/100\n",
            "8000/8000 [==============================] - 1s 123us/step - loss: 0.4044 - acc: 0.8341\n",
            "Epoch 18/100\n",
            "8000/8000 [==============================] - 1s 129us/step - loss: 0.4039 - acc: 0.8345\n",
            "Epoch 19/100\n",
            "8000/8000 [==============================] - 1s 123us/step - loss: 0.4037 - acc: 0.8354\n",
            "Epoch 20/100\n",
            "8000/8000 [==============================] - 1s 126us/step - loss: 0.4033 - acc: 0.8342\n",
            "Epoch 21/100\n",
            "8000/8000 [==============================] - 1s 126us/step - loss: 0.4029 - acc: 0.8332\n",
            "Epoch 22/100\n",
            "8000/8000 [==============================] - 1s 127us/step - loss: 0.4031 - acc: 0.8339\n",
            "Epoch 23/100\n",
            "8000/8000 [==============================] - 1s 129us/step - loss: 0.4030 - acc: 0.8355\n",
            "Epoch 24/100\n",
            "8000/8000 [==============================] - 1s 127us/step - loss: 0.4026 - acc: 0.8344\n",
            "Epoch 25/100\n",
            "8000/8000 [==============================] - 1s 126us/step - loss: 0.4025 - acc: 0.8350\n",
            "Epoch 26/100\n",
            "8000/8000 [==============================] - 1s 127us/step - loss: 0.4020 - acc: 0.8344\n",
            "Epoch 27/100\n",
            "8000/8000 [==============================] - 1s 124us/step - loss: 0.4024 - acc: 0.8337\n",
            "Epoch 28/100\n",
            "8000/8000 [==============================] - 1s 124us/step - loss: 0.4020 - acc: 0.8362\n",
            "Epoch 29/100\n",
            "8000/8000 [==============================] - 1s 129us/step - loss: 0.4020 - acc: 0.8345\n",
            "Epoch 30/100\n",
            "8000/8000 [==============================] - 1s 126us/step - loss: 0.4016 - acc: 0.8337\n",
            "Epoch 31/100\n",
            "8000/8000 [==============================] - 1s 131us/step - loss: 0.4014 - acc: 0.8361\n",
            "Epoch 32/100\n",
            "8000/8000 [==============================] - 1s 125us/step - loss: 0.4017 - acc: 0.8357\n",
            "Epoch 33/100\n",
            "8000/8000 [==============================] - 1s 123us/step - loss: 0.4018 - acc: 0.8354\n",
            "Epoch 34/100\n",
            "8000/8000 [==============================] - 1s 124us/step - loss: 0.4018 - acc: 0.8346\n",
            "Epoch 35/100\n",
            "8000/8000 [==============================] - 1s 123us/step - loss: 0.4011 - acc: 0.8350\n",
            "Epoch 36/100\n",
            "8000/8000 [==============================] - 1s 127us/step - loss: 0.4012 - acc: 0.8340\n",
            "Epoch 37/100\n",
            "8000/8000 [==============================] - 1s 125us/step - loss: 0.4008 - acc: 0.8326\n",
            "Epoch 38/100\n",
            "8000/8000 [==============================] - 1s 124us/step - loss: 0.4012 - acc: 0.8341\n",
            "Epoch 39/100\n",
            "8000/8000 [==============================] - 1s 131us/step - loss: 0.4013 - acc: 0.8361\n",
            "Epoch 40/100\n",
            "8000/8000 [==============================] - 1s 125us/step - loss: 0.4006 - acc: 0.8357\n",
            "Epoch 41/100\n",
            "8000/8000 [==============================] - 1s 126us/step - loss: 0.4011 - acc: 0.8350\n",
            "Epoch 42/100\n",
            "8000/8000 [==============================] - 1s 129us/step - loss: 0.4004 - acc: 0.8355\n",
            "Epoch 43/100\n",
            "8000/8000 [==============================] - 1s 123us/step - loss: 0.4010 - acc: 0.8349\n",
            "Epoch 44/100\n",
            "8000/8000 [==============================] - 1s 127us/step - loss: 0.4008 - acc: 0.8355\n",
            "Epoch 45/100\n",
            "8000/8000 [==============================] - 1s 124us/step - loss: 0.4009 - acc: 0.8349\n",
            "Epoch 46/100\n",
            "8000/8000 [==============================] - 1s 123us/step - loss: 0.4000 - acc: 0.8361\n",
            "Epoch 47/100\n",
            "8000/8000 [==============================] - 1s 124us/step - loss: 0.4008 - acc: 0.8342\n",
            "Epoch 48/100\n",
            "8000/8000 [==============================] - 1s 124us/step - loss: 0.4008 - acc: 0.8332\n",
            "Epoch 49/100\n",
            "8000/8000 [==============================] - 1s 125us/step - loss: 0.4001 - acc: 0.8337\n",
            "Epoch 50/100\n",
            "8000/8000 [==============================] - 1s 131us/step - loss: 0.4004 - acc: 0.8350\n",
            "Epoch 51/100\n",
            "8000/8000 [==============================] - 1s 126us/step - loss: 0.4005 - acc: 0.8342\n",
            "Epoch 52/100\n",
            "8000/8000 [==============================] - 1s 129us/step - loss: 0.4005 - acc: 0.8349\n",
            "Epoch 53/100\n",
            "8000/8000 [==============================] - 1s 128us/step - loss: 0.4004 - acc: 0.8339\n",
            "Epoch 54/100\n",
            "8000/8000 [==============================] - 1s 125us/step - loss: 0.4001 - acc: 0.8350\n",
            "Epoch 55/100\n",
            "8000/8000 [==============================] - 1s 125us/step - loss: 0.4003 - acc: 0.8360\n",
            "Epoch 56/100\n",
            "8000/8000 [==============================] - 1s 127us/step - loss: 0.4002 - acc: 0.8347\n",
            "Epoch 57/100\n",
            "8000/8000 [==============================] - 1s 125us/step - loss: 0.4004 - acc: 0.8350\n",
            "Epoch 58/100\n",
            "8000/8000 [==============================] - 1s 124us/step - loss: 0.4005 - acc: 0.8336\n",
            "Epoch 59/100\n",
            "8000/8000 [==============================] - 1s 123us/step - loss: 0.4002 - acc: 0.8355\n",
            "Epoch 60/100\n",
            "8000/8000 [==============================] - 1s 130us/step - loss: 0.4001 - acc: 0.8359\n",
            "Epoch 61/100\n",
            "8000/8000 [==============================] - 1s 125us/step - loss: 0.4003 - acc: 0.8349\n",
            "Epoch 62/100\n",
            "8000/8000 [==============================] - 1s 124us/step - loss: 0.4004 - acc: 0.8345\n",
            "Epoch 63/100\n",
            "8000/8000 [==============================] - 1s 125us/step - loss: 0.4004 - acc: 0.8344\n",
            "Epoch 64/100\n",
            "8000/8000 [==============================] - 1s 122us/step - loss: 0.4001 - acc: 0.8352\n",
            "Epoch 65/100\n",
            "8000/8000 [==============================] - 1s 124us/step - loss: 0.4000 - acc: 0.8372\n",
            "Epoch 66/100\n",
            "8000/8000 [==============================] - 1s 124us/step - loss: 0.4001 - acc: 0.8345\n",
            "Epoch 67/100\n",
            "8000/8000 [==============================] - 1s 124us/step - loss: 0.4000 - acc: 0.8346\n",
            "Epoch 68/100\n",
            "8000/8000 [==============================] - 1s 123us/step - loss: 0.4001 - acc: 0.8349\n",
            "Epoch 69/100\n",
            "8000/8000 [==============================] - 1s 120us/step - loss: 0.4004 - acc: 0.8342\n",
            "Epoch 70/100\n",
            "8000/8000 [==============================] - 1s 123us/step - loss: 0.3996 - acc: 0.8359\n",
            "Epoch 71/100\n",
            "8000/8000 [==============================] - 1s 129us/step - loss: 0.4000 - acc: 0.8344\n",
            "Epoch 72/100\n",
            "8000/8000 [==============================] - 1s 126us/step - loss: 0.3999 - acc: 0.8341\n",
            "Epoch 73/100\n",
            "8000/8000 [==============================] - 1s 125us/step - loss: 0.4001 - acc: 0.8352\n",
            "Epoch 74/100\n",
            "8000/8000 [==============================] - 1s 125us/step - loss: 0.4000 - acc: 0.8341\n",
            "Epoch 75/100\n",
            "8000/8000 [==============================] - 1s 125us/step - loss: 0.3999 - acc: 0.8367\n",
            "Epoch 76/100\n",
            "8000/8000 [==============================] - 1s 124us/step - loss: 0.4001 - acc: 0.8360\n",
            "Epoch 77/100\n",
            "8000/8000 [==============================] - 1s 126us/step - loss: 0.4004 - acc: 0.8341\n",
            "Epoch 78/100\n",
            "8000/8000 [==============================] - 1s 128us/step - loss: 0.4002 - acc: 0.8344\n",
            "Epoch 79/100\n",
            "8000/8000 [==============================] - 1s 126us/step - loss: 0.3995 - acc: 0.8357\n",
            "Epoch 80/100\n",
            "8000/8000 [==============================] - 1s 125us/step - loss: 0.4002 - acc: 0.8346\n",
            "Epoch 81/100\n",
            "8000/8000 [==============================] - 1s 127us/step - loss: 0.3999 - acc: 0.8364\n",
            "Epoch 82/100\n",
            "8000/8000 [==============================] - 1s 124us/step - loss: 0.3998 - acc: 0.8337\n",
            "Epoch 83/100\n",
            "8000/8000 [==============================] - 1s 129us/step - loss: 0.4000 - acc: 0.8346\n",
            "Epoch 84/100\n",
            "8000/8000 [==============================] - 1s 128us/step - loss: 0.4000 - acc: 0.8347\n",
            "Epoch 85/100\n",
            "8000/8000 [==============================] - 1s 127us/step - loss: 0.3999 - acc: 0.8352\n",
            "Epoch 86/100\n",
            "8000/8000 [==============================] - 1s 124us/step - loss: 0.4001 - acc: 0.8342\n",
            "Epoch 87/100\n",
            "8000/8000 [==============================] - 1s 126us/step - loss: 0.4000 - acc: 0.8345\n",
            "Epoch 88/100\n",
            "8000/8000 [==============================] - 1s 124us/step - loss: 0.3997 - acc: 0.8350\n",
            "Epoch 89/100\n",
            "8000/8000 [==============================] - 1s 126us/step - loss: 0.4001 - acc: 0.8336\n",
            "Epoch 90/100\n",
            "8000/8000 [==============================] - 1s 125us/step - loss: 0.3992 - acc: 0.8334\n",
            "Epoch 91/100\n",
            "8000/8000 [==============================] - 1s 126us/step - loss: 0.4000 - acc: 0.8345\n",
            "Epoch 92/100\n",
            "8000/8000 [==============================] - 1s 130us/step - loss: 0.4000 - acc: 0.8341\n",
            "Epoch 93/100\n",
            "8000/8000 [==============================] - 1s 125us/step - loss: 0.4001 - acc: 0.8336\n",
            "Epoch 94/100\n",
            "8000/8000 [==============================] - 1s 125us/step - loss: 0.3998 - acc: 0.8360\n",
            "Epoch 95/100\n",
            "8000/8000 [==============================] - 1s 126us/step - loss: 0.3995 - acc: 0.8352\n",
            "Epoch 96/100\n",
            "8000/8000 [==============================] - 1s 127us/step - loss: 0.3997 - acc: 0.8355\n",
            "Epoch 97/100\n",
            "8000/8000 [==============================] - 1s 126us/step - loss: 0.3997 - acc: 0.8341\n",
            "Epoch 98/100\n",
            "8000/8000 [==============================] - 1s 126us/step - loss: 0.3998 - acc: 0.8342\n",
            "Epoch 99/100\n",
            "8000/8000 [==============================] - 1s 125us/step - loss: 0.4002 - acc: 0.8355\n",
            "Epoch 100/100\n",
            "8000/8000 [==============================] - 1s 125us/step - loss: 0.4000 - acc: 0.8349\n"
          ],
          "name": "stdout"
        },
        {
          "output_type": "execute_result",
          "data": {
            "text/plain": [
              "<keras.callbacks.History at 0x7f3aa4a98f60>"
            ]
          },
          "metadata": {
            "tags": []
          },
          "execution_count": 4
        }
      ]
    },
    {
      "cell_type": "code",
      "metadata": {
        "id": "k33Lj4C9sqQX",
        "colab_type": "code",
        "colab": {}
      },
      "source": [
        "# Part 3 - Making predictions and evaluating the model\n",
        "\n",
        "# Predicting the Test set results\n",
        "y_pred = classifier.predict(X_test)\n",
        "y_pred = (y_pred > 0.5)\n",
        "\n",
        "# Predicting a single new observation\n",
        "\"\"\"Predict if the customer with the following informations will leave the bank:\n",
        "Geography: France\n",
        "Credit Score: 600\n",
        "Gender: Male\n",
        "Age: 40\n",
        "Tenure: 3\n",
        "Balance: 60000\n",
        "Number of Products: 2\n",
        "Has Credit Card: Yes\n",
        "Is Active Member: Yes\n",
        "Estimated Salary: 50000\"\"\"\n",
        "new_prediction = classifier.predict(sc.transform(np.array([[0.0, 0, 600, 1, 40, 3, 60000, 2, 1, 1, 50000]])))\n",
        "new_prediction = (new_prediction > 0.5)\n",
        "\n",
        "# Making the Confusion Matrix\n",
        "from sklearn.metrics import confusion_matrix\n",
        "cm = confusion_matrix(y_test, y_pred)"
      ],
      "execution_count": 0,
      "outputs": []
    },
    {
      "cell_type": "code",
      "metadata": {
        "id": "qwCTmZwbtFTE",
        "colab_type": "code",
        "colab": {
          "base_uri": "https://localhost:8080/",
          "height": 50
        },
        "outputId": "c0c0aee4-723f-468d-bd9c-82e92fbe83da"
      },
      "source": [
        "cm"
      ],
      "execution_count": 6,
      "outputs": [
        {
          "output_type": "execute_result",
          "data": {
            "text/plain": [
              "array([[1541,   54],\n",
              "       [ 260,  145]])"
            ]
          },
          "metadata": {
            "tags": []
          },
          "execution_count": 6
        }
      ]
    },
    {
      "cell_type": "code",
      "metadata": {
        "id": "YlHqcmdVt8cN",
        "colab_type": "code",
        "colab": {
          "base_uri": "https://localhost:8080/",
          "height": 162
        },
        "outputId": "cdba661c-7bfc-4d1a-b327-9a207cc84eae"
      },
      "source": [
        "new_prediction"
      ],
      "execution_count": 4,
      "outputs": [
        {
          "output_type": "error",
          "ename": "NameError",
          "evalue": "ignored",
          "traceback": [
            "\u001b[0;31m---------------------------------------------------------------------------\u001b[0m",
            "\u001b[0;31mNameError\u001b[0m                                 Traceback (most recent call last)",
            "\u001b[0;32m<ipython-input-4-62ca2313dce2>\u001b[0m in \u001b[0;36m<module>\u001b[0;34m()\u001b[0m\n\u001b[0;32m----> 1\u001b[0;31m \u001b[0mnew_prediction\u001b[0m\u001b[0;34m\u001b[0m\u001b[0;34m\u001b[0m\u001b[0m\n\u001b[0m",
            "\u001b[0;31mNameError\u001b[0m: name 'new_prediction' is not defined"
          ]
        }
      ]
    },
    {
      "cell_type": "code",
      "metadata": {
        "id": "k2n-YvL5tG2w",
        "colab_type": "code",
        "colab": {
          "base_uri": "https://localhost:8080/",
          "height": 34
        },
        "outputId": "6cfe8a2b-51a8-4d88-b040-7b746ab593c2"
      },
      "source": [
        "# Part 4 - Evaluating, Improving and Tuning the ANN\n",
        "\n",
        "# Evaluating the ANN\n",
        "from keras.wrappers.scikit_learn import KerasClassifier\n",
        "from sklearn.model_selection import cross_val_score\n",
        "from keras.models import Sequential\n",
        "from keras.layers import Dense\n",
        "def build_classifier():\n",
        "    classifier = Sequential()\n",
        "    classifier.add(Dense(units = 6, kernel_initializer = 'uniform', activation = 'relu', input_dim = 11))\n",
        "    classifier.add(Dense(units = 6, kernel_initializer = 'uniform', activation = 'relu'))\n",
        "    classifier.add(Dense(units = 1, kernel_initializer = 'uniform', activation = 'sigmoid'))\n",
        "    classifier.compile(optimizer = 'adam', loss = 'binary_crossentropy', metrics = ['accuracy'])\n",
        "    return classifier\n",
        "classifier = KerasClassifier(build_fn = build_classifier, batch_size = 10, epochs = 100)\n",
        "accuracies = cross_val_score(estimator = classifier, X = X_train, y = y_train, cv = 10, n_jobs = -1)\n",
        "mean = accuracies.mean()\n",
        "variance = accuracies.std()\n"
      ],
      "execution_count": 3,
      "outputs": [
        {
          "output_type": "stream",
          "text": [
            "Using TensorFlow backend.\n"
          ],
          "name": "stderr"
        }
      ]
    },
    {
      "cell_type": "code",
      "metadata": {
        "id": "5y2sVay7tKUS",
        "colab_type": "code",
        "colab": {}
      },
      "source": [
        "# Improving the ANN\n",
        "# Dropout Regularization to reduce overfitting if needed\n",
        "\n",
        "# Tuning the ANN\n",
        "from keras.wrappers.scikit_learn import KerasClassifier\n",
        "from sklearn.model_selection import GridSearchCV\n",
        "from keras.models import Sequential\n",
        "from keras.layers import Dense\n",
        "def build_classifier(optimizer):\n",
        "    classifier = Sequential()\n",
        "    classifier.add(Dense(units = 6, kernel_initializer = 'uniform', activation = 'relu', input_dim = 11))\n",
        "    classifier.add(Dense(units = 6, kernel_initializer = 'uniform', activation = 'relu'))\n",
        "    classifier.add(Dense(units = 1, kernel_initializer = 'uniform', activation = 'sigmoid'))\n",
        "    classifier.compile(optimizer = optimizer, loss = 'binary_crossentropy', metrics = ['accuracy'])\n",
        "    return classifier\n",
        "classifier = KerasClassifier(build_fn = build_classifier)\n",
        "parameters = {'batch_size': [25, 32],\n",
        "              'epochs': [100, 500],\n",
        "              'optimizer': ['adam', 'rmsprop']}\n",
        "grid_search = GridSearchCV(estimator = classifier,\n",
        "                           param_grid = parameters,\n",
        "                           scoring = 'accuracy',\n",
        "                           cv = 10)\n",
        "grid_search = grid_search.fit(X_train, y_train)\n",
        "best_parameters = grid_search.best_params_\n",
        "best_accuracy = grid_search.best_score_"
      ],
      "execution_count": 0,
      "outputs": []
    }
  ]
}