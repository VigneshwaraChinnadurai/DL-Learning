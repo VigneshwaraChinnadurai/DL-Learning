{
  "nbformat": 4,
  "nbformat_minor": 0,
  "metadata": {
    "colab": {
      "name": "SOM_dl_16.ipynb",
      "version": "0.3.2",
      "provenance": [],
      "collapsed_sections": [],
      "include_colab_link": true
    },
    "kernelspec": {
      "name": "python3",
      "display_name": "Python 3"
    }
  },
  "cells": [
    {
      "cell_type": "markdown",
      "metadata": {
        "id": "view-in-github",
        "colab_type": "text"
      },
      "source": [
        "<a href=\"https://colab.research.google.com/github/VigneshwaraChinnadurai/DL-Learning/blob/master/Part_4_Self_Organizing_Maps/SOM_dl_16.ipynb\" target=\"_parent\"><img src=\"https://colab.research.google.com/assets/colab-badge.svg\" alt=\"Open In Colab\"/></a>"
      ]
    },
    {
      "cell_type": "code",
      "metadata": {
        "id": "BKhQbm9nbCFC",
        "colab_type": "code",
        "colab": {}
      },
      "source": [
        "# Self Organizing Map\n",
        "\n",
        "# These are unsupervised deep learning in which the output is not given in the dataset which is found with the \n",
        "# previous inputs.\n",
        "\n",
        "# In this dataset, we are going to predict the no of frauds who applied and received credit cards.\n"
      ],
      "execution_count": 0,
      "outputs": []
    },
    {
      "cell_type": "code",
      "metadata": {
        "id": "lU4iMOaAbEqW",
        "colab_type": "code",
        "colab": {}
      },
      "source": [
        "# Importing the libraries\n",
        "import numpy as np\n",
        "import matplotlib.pyplot as plt\n",
        "import pandas as pd\n",
        "\n",
        "# Importing the dataset\n",
        "dataset = pd.read_csv('Credit_Card_Applications.csv')\n",
        "X = dataset.iloc[:, :-1].values\n",
        "y = dataset.iloc[:, -1].values\n",
        "\n",
        "# Feature Scaling\n",
        "from sklearn.preprocessing import MinMaxScaler\n",
        "sc = MinMaxScaler(feature_range = (0, 1))\n",
        "# Feature range is to give the values between 0 and 1\n",
        "X = sc.fit_transform(X)"
      ],
      "execution_count": 0,
      "outputs": []
    },
    {
      "cell_type": "code",
      "metadata": {
        "id": "nrSo5jxVbRsE",
        "colab_type": "code",
        "colab": {}
      },
      "source": [
        "# Visualizing the results\n",
        "# Here we are not using the default maps, but we are goingto create one of our own desire to fit SOM Model.\n",
        "from pylab import bone, pcolor, colorbar, plot, show\n",
        "bone()\n",
        "# It will just create a white window. (Just run bone() to see the output)\n",
        "pcolor(som.distance_map().T)\n",
        "# To show the value as color, we do the above step. (Like color gradien in Tableau)\n",
        "# dotT is used to transpose the matrix as required to input it to pcolor\n",
        "colorbar()\n",
        "# It gives the legends.\n",
        "# Hence the graph is showing the Mean Interneuron Distance.\n",
        "markers = ['o', 's']\n",
        "# Circle(o) is the customers who didn't get approval and the Squares(s) is the one who got approval.\n",
        "colors = ['r', 'g']\n",
        "for i, x in enumerate(X):\n",
        "    w = som.winner(x)\n",
        "    plot(w[0] + 0.5,\n",
        "         w[1] + 0.5,\n",
        "         markers[y[i]],\n",
        "         markeredgecolor = colors[y[i]],\n",
        "         markerfacecolor = 'None',\n",
        "         markersize = 10,\n",
        "         markeredgewidth = 2)\n",
        "show()"
      ],
      "execution_count": 0,
      "outputs": []
    },
    {
      "cell_type": "code",
      "metadata": {
        "id": "tw8V6PP7bUTM",
        "colab_type": "code",
        "colab": {}
      },
      "source": [
        "# Finding the frauds\n",
        "mappings = som.win_map(X)\n",
        "frauds = np.concatenate((mappings[(8,1)], mappings[(6,8)]), axis = 0)\n",
        "# By seeing the graph, giving the co-ordinate to fetch the details using the dict.\n",
        "# Need to give which ever cell has pure or near pure white with values ie circle or square. \n",
        "frauds = sc.inverse_transform(frauds)"
      ],
      "execution_count": 0,
      "outputs": []
    }
  ]
}